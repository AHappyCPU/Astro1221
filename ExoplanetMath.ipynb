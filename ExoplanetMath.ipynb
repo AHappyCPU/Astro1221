{
  "nbformat": 4,
  "nbformat_minor": 0,
  "metadata": {
    "colab": {
      "provenance": [],
      "authorship_tag": "ABX9TyNt5kKjVmNUlOehVjILi14Y",
      "include_colab_link": true
    },
    "kernelspec": {
      "name": "python3",
      "display_name": "Python 3"
    },
    "language_info": {
      "name": "python"
    }
  },
  "cells": [
    {
      "cell_type": "markdown",
      "metadata": {
        "id": "view-in-github",
        "colab_type": "text"
      },
      "source": [
        "<a href=\"https://colab.research.google.com/github/AHappyCPU/Astro1221/blob/main/ExoplanetMath.ipynb\" target=\"_parent\"><img src=\"https://colab.research.google.com/assets/colab-badge.svg\" alt=\"Open In Colab\"/></a>"
      ]
    },
    {
      "cell_type": "code",
      "execution_count": 1,
      "metadata": {
        "id": "UOKsp4Ru-x2O"
      },
      "outputs": [],
      "source": [
        "import astropy.units as u\n",
        "import numpy as np\n",
        "import astropy.constants as ac"
      ]
    },
    {
      "cell_type": "markdown",
      "source": [
        "We are calculating the duration of an Earth transiting the Sun, t=d/v, where d is the diameter of the sun, and v is the orbital velocity of the Earth."
      ],
      "metadata": {
        "id": "6L-mIB_2_85g"
      }
    },
    {
      "cell_type": "code",
      "source": [
        "d= 2 * u.solRad #Defines d"
      ],
      "metadata": {
        "id": "GDiF1fmEAIhW"
      },
      "execution_count": 2,
      "outputs": []
    },
    {
      "cell_type": "code",
      "source": [
        "a = 1* u.AU #Defines a\n",
        "v = np.sqrt(ac.G*u.solMass / a) #Sets up the velocity equation\n",
        "print(v.to(u.m/u.s)) #Prints it"
      ],
      "metadata": {
        "colab": {
          "base_uri": "https://localhost:8080/"
        },
        "id": "CEnwV6a4AWnW",
        "outputId": "dd3ed018-9ae6-4f6d-ed21-0b2f9b6aaab7"
      },
      "execution_count": 3,
      "outputs": [
        {
          "output_type": "stream",
          "name": "stdout",
          "text": [
            "29784.691829676933 m / s\n"
          ]
        }
      ]
    },
    {
      "cell_type": "code",
      "source": [
        "t = d/v\n",
        "print(t.to(u.hour)) #Prints out the hours for the duration"
      ],
      "metadata": {
        "colab": {
          "base_uri": "https://localhost:8080/"
        },
        "id": "iFtjugmCAsDq",
        "outputId": "e50e2d4d-39b1-4f22-d6df-6b6a03eba598"
      },
      "execution_count": 4,
      "outputs": [
        {
          "output_type": "stream",
          "name": "stdout",
          "text": [
            "12.976464628547822 h\n"
          ]
        }
      ]
    },
    {
      "cell_type": "markdown",
      "source": [
        "How much flux dip for a jupiter transiting a sun-like star? $δ = (\\frac{R_p}{R_r})^2$"
      ],
      "metadata": {
        "id": "Q7brG6FuCZr1"
      }
    },
    {
      "cell_type": "code",
      "source": [
        "delta = (u.jupiterRad / u.solRad)**2 #The equation from above\n",
        "print (\"The transit depth =\", delta.decompose()) #A function that manipulates it"
      ],
      "metadata": {
        "colab": {
          "base_uri": "https://localhost:8080/"
        },
        "id": "egd7EBYIDOga",
        "outputId": "7a825032-d55e-4296-b14a-0209d944b4a6"
      },
      "execution_count": 5,
      "outputs": [
        {
          "output_type": "stream",
          "name": "stdout",
          "text": [
            "The transit depth = 0.0105602\n"
          ]
        }
      ]
    },
    {
      "cell_type": "code",
      "source": [
        "a = 5 * u.AU\n",
        "v_Jupiter = np.sqrt(ac.G * u.solMass / a) #applying earlier equations to Jupiter\n",
        "print (v_Jupiter.to(u.m/u.s)) #Printing it"
      ],
      "metadata": {
        "colab": {
          "base_uri": "https://localhost:8080/"
        },
        "id": "X3ayfqlNDtay",
        "outputId": "ef970915-b653-4c04-9293-05a3931d92f3"
      },
      "execution_count": 6,
      "outputs": [
        {
          "output_type": "stream",
          "name": "stdout",
          "text": [
            "13320.119124008042 m / s\n"
          ]
        }
      ]
    },
    {
      "cell_type": "code",
      "source": [
        "t_Jupiter = d/v_Jupiter # deriving duration from velocity\n",
        "print(t_Jupiter.to(u.hour))"
      ],
      "metadata": {
        "colab": {
          "base_uri": "https://localhost:8080/"
        },
        "id": "ap9Vdj76EH1l",
        "outputId": "5667f3a2-4cd2-48c7-b4a3-911e2afd0e7a"
      },
      "execution_count": 7,
      "outputs": [
        {
          "output_type": "stream",
          "name": "stdout",
          "text": [
            "29.01625701705449 h\n"
          ]
        }
      ]
    },
    {
      "cell_type": "code",
      "source": [
        "v_earth = 30 * u.km/u.s #Sets velocity of the Earth\n",
        "v_sun = (u.earthMass/u.solMass)*v_earth #Defines the speed of transit for earth\n",
        "print(v_sun.to(u.m/u.s))"
      ],
      "metadata": {
        "colab": {
          "base_uri": "https://localhost:8080/"
        },
        "id": "vbvCTbvsESIm",
        "outputId": "6f855510-e97e-49ec-e0cf-f12b4a07cc3e"
      },
      "execution_count": 9,
      "outputs": [
        {
          "output_type": "stream",
          "name": "stdout",
          "text": [
            "0.09010468046552379 m / s\n"
          ]
        }
      ]
    },
    {
      "cell_type": "code",
      "source": [
        "v_sun_Jupiter = (u.jupiterMass/u.solMass)* v_Jupiter #Defines the speed of transit for Jupiter\n",
        "print(v_sun_Jupiter.to(u.m/u.s))"
      ],
      "metadata": {
        "colab": {
          "base_uri": "https://localhost:8080/"
        },
        "id": "cHbiVM9dFQ4Y",
        "outputId": "33306825-232f-4f92-9a44-3ea72609cad5"
      },
      "execution_count": 10,
      "outputs": [
        {
          "output_type": "stream",
          "name": "stdout",
          "text": [
            "12.715308911562614 m / s\n"
          ]
        }
      ]
    }
  ]
}