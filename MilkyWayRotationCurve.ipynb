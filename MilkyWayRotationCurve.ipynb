{
  "nbformat": 4,
  "nbformat_minor": 0,
  "metadata": {
    "colab": {
      "provenance": [],
      "authorship_tag": "ABX9TyNJOtx/yq5tbWVw3QdGwp59",
      "include_colab_link": true
    },
    "kernelspec": {
      "name": "python3",
      "display_name": "Python 3"
    },
    "language_info": {
      "name": "python"
    }
  },
  "cells": [
    {
      "cell_type": "markdown",
      "metadata": {
        "id": "view-in-github",
        "colab_type": "text"
      },
      "source": [
        "<a href=\"https://colab.research.google.com/github/AHappyCPU/Astro1221/blob/main/MilkyWayRotationCurve.ipynb\" target=\"_parent\"><img src=\"https://colab.research.google.com/assets/colab-badge.svg\" alt=\"Open In Colab\"/></a>"
      ]
    },
    {
      "cell_type": "code",
      "execution_count": 1,
      "metadata": {
        "id": "BL8-E86-4ITi"
      },
      "outputs": [],
      "source": [
        "import numpy as np\n",
        "import astropy.units as u\n",
        "import astropy.constants as ac\n"
      ]
    },
    {
      "cell_type": "code",
      "source": [
        "import matplotlib.pyplot as plt"
      ],
      "metadata": {
        "id": "L2zBcN4v40ej"
      },
      "execution_count": 2,
      "outputs": []
    },
    {
      "cell_type": "code",
      "source": [
        "from google.colab import files"
      ],
      "metadata": {
        "id": "DtVHvv865iUb"
      },
      "execution_count": 3,
      "outputs": []
    },
    {
      "cell_type": "code",
      "source": [
        "upload = files.upload() # Uploads a datafile"
      ],
      "metadata": {
        "colab": {
          "base_uri": "https://localhost:8080/",
          "height": 73
        },
        "id": "SB59b5wF5-kJ",
        "outputId": "1cdefa09-3dc2-44a1-f15c-706a224e8922"
      },
      "execution_count": 5,
      "outputs": [
        {
          "output_type": "display_data",
          "data": {
            "text/plain": [
              "<IPython.core.display.HTML object>"
            ],
            "text/html": [
              "\n",
              "     <input type=\"file\" id=\"files-5ba9cc80-1f2a-432b-8cd1-ef750b945165\" name=\"files[]\" multiple disabled\n",
              "        style=\"border:none\" />\n",
              "     <output id=\"result-5ba9cc80-1f2a-432b-8cd1-ef750b945165\">\n",
              "      Upload widget is only available when the cell has been executed in the\n",
              "      current browser session. Please rerun this cell to enable.\n",
              "      </output>\n",
              "      <script>// Copyright 2017 Google LLC\n",
              "//\n",
              "// Licensed under the Apache License, Version 2.0 (the \"License\");\n",
              "// you may not use this file except in compliance with the License.\n",
              "// You may obtain a copy of the License at\n",
              "//\n",
              "//      http://www.apache.org/licenses/LICENSE-2.0\n",
              "//\n",
              "// Unless required by applicable law or agreed to in writing, software\n",
              "// distributed under the License is distributed on an \"AS IS\" BASIS,\n",
              "// WITHOUT WARRANTIES OR CONDITIONS OF ANY KIND, either express or implied.\n",
              "// See the License for the specific language governing permissions and\n",
              "// limitations under the License.\n",
              "\n",
              "/**\n",
              " * @fileoverview Helpers for google.colab Python module.\n",
              " */\n",
              "(function(scope) {\n",
              "function span(text, styleAttributes = {}) {\n",
              "  const element = document.createElement('span');\n",
              "  element.textContent = text;\n",
              "  for (const key of Object.keys(styleAttributes)) {\n",
              "    element.style[key] = styleAttributes[key];\n",
              "  }\n",
              "  return element;\n",
              "}\n",
              "\n",
              "// Max number of bytes which will be uploaded at a time.\n",
              "const MAX_PAYLOAD_SIZE = 100 * 1024;\n",
              "\n",
              "function _uploadFiles(inputId, outputId) {\n",
              "  const steps = uploadFilesStep(inputId, outputId);\n",
              "  const outputElement = document.getElementById(outputId);\n",
              "  // Cache steps on the outputElement to make it available for the next call\n",
              "  // to uploadFilesContinue from Python.\n",
              "  outputElement.steps = steps;\n",
              "\n",
              "  return _uploadFilesContinue(outputId);\n",
              "}\n",
              "\n",
              "// This is roughly an async generator (not supported in the browser yet),\n",
              "// where there are multiple asynchronous steps and the Python side is going\n",
              "// to poll for completion of each step.\n",
              "// This uses a Promise to block the python side on completion of each step,\n",
              "// then passes the result of the previous step as the input to the next step.\n",
              "function _uploadFilesContinue(outputId) {\n",
              "  const outputElement = document.getElementById(outputId);\n",
              "  const steps = outputElement.steps;\n",
              "\n",
              "  const next = steps.next(outputElement.lastPromiseValue);\n",
              "  return Promise.resolve(next.value.promise).then((value) => {\n",
              "    // Cache the last promise value to make it available to the next\n",
              "    // step of the generator.\n",
              "    outputElement.lastPromiseValue = value;\n",
              "    return next.value.response;\n",
              "  });\n",
              "}\n",
              "\n",
              "/**\n",
              " * Generator function which is called between each async step of the upload\n",
              " * process.\n",
              " * @param {string} inputId Element ID of the input file picker element.\n",
              " * @param {string} outputId Element ID of the output display.\n",
              " * @return {!Iterable<!Object>} Iterable of next steps.\n",
              " */\n",
              "function* uploadFilesStep(inputId, outputId) {\n",
              "  const inputElement = document.getElementById(inputId);\n",
              "  inputElement.disabled = false;\n",
              "\n",
              "  const outputElement = document.getElementById(outputId);\n",
              "  outputElement.innerHTML = '';\n",
              "\n",
              "  const pickedPromise = new Promise((resolve) => {\n",
              "    inputElement.addEventListener('change', (e) => {\n",
              "      resolve(e.target.files);\n",
              "    });\n",
              "  });\n",
              "\n",
              "  const cancel = document.createElement('button');\n",
              "  inputElement.parentElement.appendChild(cancel);\n",
              "  cancel.textContent = 'Cancel upload';\n",
              "  const cancelPromise = new Promise((resolve) => {\n",
              "    cancel.onclick = () => {\n",
              "      resolve(null);\n",
              "    };\n",
              "  });\n",
              "\n",
              "  // Wait for the user to pick the files.\n",
              "  const files = yield {\n",
              "    promise: Promise.race([pickedPromise, cancelPromise]),\n",
              "    response: {\n",
              "      action: 'starting',\n",
              "    }\n",
              "  };\n",
              "\n",
              "  cancel.remove();\n",
              "\n",
              "  // Disable the input element since further picks are not allowed.\n",
              "  inputElement.disabled = true;\n",
              "\n",
              "  if (!files) {\n",
              "    return {\n",
              "      response: {\n",
              "        action: 'complete',\n",
              "      }\n",
              "    };\n",
              "  }\n",
              "\n",
              "  for (const file of files) {\n",
              "    const li = document.createElement('li');\n",
              "    li.append(span(file.name, {fontWeight: 'bold'}));\n",
              "    li.append(span(\n",
              "        `(${file.type || 'n/a'}) - ${file.size} bytes, ` +\n",
              "        `last modified: ${\n",
              "            file.lastModifiedDate ? file.lastModifiedDate.toLocaleDateString() :\n",
              "                                    'n/a'} - `));\n",
              "    const percent = span('0% done');\n",
              "    li.appendChild(percent);\n",
              "\n",
              "    outputElement.appendChild(li);\n",
              "\n",
              "    const fileDataPromise = new Promise((resolve) => {\n",
              "      const reader = new FileReader();\n",
              "      reader.onload = (e) => {\n",
              "        resolve(e.target.result);\n",
              "      };\n",
              "      reader.readAsArrayBuffer(file);\n",
              "    });\n",
              "    // Wait for the data to be ready.\n",
              "    let fileData = yield {\n",
              "      promise: fileDataPromise,\n",
              "      response: {\n",
              "        action: 'continue',\n",
              "      }\n",
              "    };\n",
              "\n",
              "    // Use a chunked sending to avoid message size limits. See b/62115660.\n",
              "    let position = 0;\n",
              "    do {\n",
              "      const length = Math.min(fileData.byteLength - position, MAX_PAYLOAD_SIZE);\n",
              "      const chunk = new Uint8Array(fileData, position, length);\n",
              "      position += length;\n",
              "\n",
              "      const base64 = btoa(String.fromCharCode.apply(null, chunk));\n",
              "      yield {\n",
              "        response: {\n",
              "          action: 'append',\n",
              "          file: file.name,\n",
              "          data: base64,\n",
              "        },\n",
              "      };\n",
              "\n",
              "      let percentDone = fileData.byteLength === 0 ?\n",
              "          100 :\n",
              "          Math.round((position / fileData.byteLength) * 100);\n",
              "      percent.textContent = `${percentDone}% done`;\n",
              "\n",
              "    } while (position < fileData.byteLength);\n",
              "  }\n",
              "\n",
              "  // All done.\n",
              "  yield {\n",
              "    response: {\n",
              "      action: 'complete',\n",
              "    }\n",
              "  };\n",
              "}\n",
              "\n",
              "scope.google = scope.google || {};\n",
              "scope.google.colab = scope.google.colab || {};\n",
              "scope.google.colab._files = {\n",
              "  _uploadFiles,\n",
              "  _uploadFilesContinue,\n",
              "};\n",
              "})(self);\n",
              "</script> "
            ]
          },
          "metadata": {}
        },
        {
          "output_type": "stream",
          "name": "stdout",
          "text": [
            "Saving galaxy_rotation_2006.txt to galaxy_rotation_2006.txt\n"
          ]
        }
      ]
    },
    {
      "cell_type": "code",
      "source": [
        "import astropy.io.ascii"
      ],
      "metadata": {
        "id": "Q80toakd618z"
      },
      "execution_count": 6,
      "outputs": []
    },
    {
      "cell_type": "code",
      "source": [
        "table = astropy.io.ascii.read(\"galaxy_rotation_2006.txt\") # Gives computer access to the datafile"
      ],
      "metadata": {
        "id": "UUVFuJo67EXd"
      },
      "execution_count": 7,
      "outputs": []
    },
    {
      "cell_type": "code",
      "source": [
        "# col2: distance from galactic center from the location in kiloparsecs col3: rotational velocity col4: uncertainty"
      ],
      "metadata": {
        "id": "N2R53Qmv6Nlc"
      },
      "execution_count": null,
      "outputs": []
    },
    {
      "cell_type": "code",
      "source": [
        "table"
      ],
      "metadata": {
        "colab": {
          "base_uri": "https://localhost:8080/",
          "height": 528
        },
        "id": "496gTGU77MEt",
        "outputId": "4a9f0ad8-1fd5-4457-9a8f-3499a56ed01f"
      },
      "execution_count": 10,
      "outputs": [
        {
          "output_type": "execute_result",
          "data": {
            "text/plain": [
              "<Table length=28>\n",
              "  col1    col2    col3    col4 \n",
              "float64 float64 float64 float64\n",
              "------- ------- ------- -------\n",
              "   25.0    5.68   235.5    17.8\n",
              "   30.0    6.81   242.9     0.8\n",
              "   35.0    7.95   251.1     0.7\n",
              "   40.0    9.08   262.0     2.1\n",
              "   45.0   10.22   258.9     6.9\n",
              "   50.0   11.35   255.1     5.7\n",
              "   55.0   12.49   251.8    17.1\n",
              "   60.0   13.62   252.1     7.4\n",
              "   65.0   14.76   251.0    18.6\n",
              "   70.0   15.89   245.5    28.8\n",
              "    ...     ...     ...     ...\n",
              "  112.5   25.54   227.4    28.8\n",
              "  117.0   26.56   225.6    28.8\n",
              "  121.5   27.58   224.4    28.8\n",
              "  126.0    28.6   222.3    28.8\n",
              "  130.5   29.62   222.1    28.8\n",
              "  135.0   30.65   224.9    28.8\n",
              "  139.5   31.67   228.1    28.8\n",
              "  144.0   32.69   231.1    28.8\n",
              "  148.5   33.71   230.4    28.8\n",
              "  153.0   34.73   226.8    28.8"
            ],
            "text/html": [
              "<div><i>Table length=28</i>\n",
              "<table id=\"table138817712595552\" class=\"table-striped table-bordered table-condensed\">\n",
              "<thead><tr><th>col1</th><th>col2</th><th>col3</th><th>col4</th></tr></thead>\n",
              "<thead><tr><th>float64</th><th>float64</th><th>float64</th><th>float64</th></tr></thead>\n",
              "<tr><td>25.0</td><td>5.68</td><td>235.5</td><td>17.8</td></tr>\n",
              "<tr><td>30.0</td><td>6.81</td><td>242.9</td><td>0.8</td></tr>\n",
              "<tr><td>35.0</td><td>7.95</td><td>251.1</td><td>0.7</td></tr>\n",
              "<tr><td>40.0</td><td>9.08</td><td>262.0</td><td>2.1</td></tr>\n",
              "<tr><td>45.0</td><td>10.22</td><td>258.9</td><td>6.9</td></tr>\n",
              "<tr><td>50.0</td><td>11.35</td><td>255.1</td><td>5.7</td></tr>\n",
              "<tr><td>55.0</td><td>12.49</td><td>251.8</td><td>17.1</td></tr>\n",
              "<tr><td>60.0</td><td>13.62</td><td>252.1</td><td>7.4</td></tr>\n",
              "<tr><td>65.0</td><td>14.76</td><td>251.0</td><td>18.6</td></tr>\n",
              "<tr><td>70.0</td><td>15.89</td><td>245.5</td><td>28.8</td></tr>\n",
              "<tr><td>...</td><td>...</td><td>...</td><td>...</td></tr>\n",
              "<tr><td>112.5</td><td>25.54</td><td>227.4</td><td>28.8</td></tr>\n",
              "<tr><td>117.0</td><td>26.56</td><td>225.6</td><td>28.8</td></tr>\n",
              "<tr><td>121.5</td><td>27.58</td><td>224.4</td><td>28.8</td></tr>\n",
              "<tr><td>126.0</td><td>28.6</td><td>222.3</td><td>28.8</td></tr>\n",
              "<tr><td>130.5</td><td>29.62</td><td>222.1</td><td>28.8</td></tr>\n",
              "<tr><td>135.0</td><td>30.65</td><td>224.9</td><td>28.8</td></tr>\n",
              "<tr><td>139.5</td><td>31.67</td><td>228.1</td><td>28.8</td></tr>\n",
              "<tr><td>144.0</td><td>32.69</td><td>231.1</td><td>28.8</td></tr>\n",
              "<tr><td>148.5</td><td>33.71</td><td>230.4</td><td>28.8</td></tr>\n",
              "<tr><td>153.0</td><td>34.73</td><td>226.8</td><td>28.8</td></tr>\n",
              "</table></div>"
            ]
          },
          "metadata": {},
          "execution_count": 10
        }
      ]
    },
    {
      "cell_type": "code",
      "source": [
        "distance = table['col2'] # Names array of distance, which contains all of column 2\n",
        "velocity = table['col3'] # Names array of velocity, which contains all of column 3"
      ],
      "metadata": {
        "id": "GWYiTYK27oDa"
      },
      "execution_count": 12,
      "outputs": []
    },
    {
      "cell_type": "code",
      "source": [
        "plt.plot(distance, velocity) # Sets up x-y line graph of distance and velocity\n",
        "plt.xlabel(\"Distance (Kpc)\") # Labels x values distance\n",
        "plt.ylabel(\"Velocity (Km/s)\") # Labels y values velocity\n",
        "plt.ylim(0,300) # Sets scale"
      ],
      "metadata": {
        "colab": {
          "base_uri": "https://localhost:8080/",
          "height": 472
        },
        "id": "UHrIkRl68Fwz",
        "outputId": "59b9f94a-9b2c-4ede-af42-67f1dbdc3a23"
      },
      "execution_count": 16,
      "outputs": [
        {
          "output_type": "execute_result",
          "data": {
            "text/plain": [
              "(0.0, 300.0)"
            ]
          },
          "metadata": {},
          "execution_count": 16
        },
        {
          "output_type": "display_data",
          "data": {
            "text/plain": [
              "<Figure size 640x480 with 1 Axes>"
            ],
            "image/png": "[encoded data removed]"
          },
          "metadata": {}
        }
      ]
    },
    {
      "cell_type": "code",
      "source": [
        "print(distance)"
      ],
      "metadata": {
        "colab": {
          "base_uri": "https://localhost:8080/"
        },
        "id": "wiOM8nrn8xy9",
        "outputId": "028f650c-3c14-4db5-da78-c7634c1c0e3a"
      },
      "execution_count": 17,
      "outputs": [
        {
          "output_type": "stream",
          "name": "stdout",
          "text": [
            " col2\n",
            "-----\n",
            " 5.68\n",
            " 6.81\n",
            " 7.95\n",
            " 9.08\n",
            "10.22\n",
            "11.35\n",
            "12.49\n",
            "13.62\n",
            "14.76\n",
            "15.89\n",
            "  ...\n",
            "24.52\n",
            "25.54\n",
            "26.56\n",
            "27.58\n",
            " 28.6\n",
            "29.62\n",
            "30.65\n",
            "31.67\n",
            "32.69\n",
            "33.71\n",
            "34.73\n",
            "Length = 28 rows\n"
          ]
        }
      ]
    },
    {
      "cell_type": "markdown",
      "source": [
        "$V = \\sqrt{\\frac{MG}{r}}$"
      ],
      "metadata": {
        "id": "Cg8pPIcs9j7v"
      }
    },
    {
      "cell_type": "code",
      "source": [
        "# In this case, G is the gravitational constant, M is the mass of the supermassive black hole, and r is the distance between the hole and the body\n"
      ],
      "metadata": {
        "id": "7ZKjJaqA9Wi7"
      },
      "execution_count": null,
      "outputs": []
    },
    {
      "cell_type": "code",
      "source": [
        "def calculate_orbital_velocity(mass, radius): # Defines the calculation in terms of its imput values\n",
        "  return (np.sqrt(ac.G * mass/radius)) # Sets up the calculation and assigns it a name"
      ],
      "metadata": {
        "id": "0ZzdibGu-CcJ"
      },
      "execution_count": 19,
      "outputs": []
    },
    {
      "cell_type": "markdown",
      "source": [
        "We can show an example using a sattellite orbiting the Earth."
      ],
      "metadata": {
        "id": "Kg9n6b0v-gGP"
      }
    },
    {
      "cell_type": "code",
      "source": [
        "mass = 1 * u.earthMass # Defines mass\n",
        "radius = 1 * u.earthRad # Defines radius\n",
        "orb_vel = calculate_orbital_velocity(mass, radius) # Applies calculation\n",
        "print(orb_vel.to(u.km/u.s)) # Displays result"
      ],
      "metadata": {
        "colab": {
          "base_uri": "https://localhost:8080/"
        },
        "id": "CJIJIiwX-WVf",
        "outputId": "41220c6a-de32-4dbc-cb55-db7997bfd3f0"
      },
      "execution_count": 20,
      "outputs": [
        {
          "output_type": "stream",
          "name": "stdout",
          "text": [
            "7.905388234385281 km / s\n"
          ]
        }
      ]
    },
    {
      "cell_type": "code",
      "source": [
        "vel_bh = np.zeros(np.shape(distance)) * u.km/u.s\n",
        "# Creates a velocity array with the same number of elements as the distance array\n",
        "\n",
        "for i, radius in enumerate(distance): # Sets up an index function, ennumerates each row of the distance array\n",
        "  rad = radius * 1000 * u.parsec # Give radius values units\n",
        "  orb_vel = calculate_orbital_velocity(mass, rad) # Applies the orbital velocity calculation to all array values using stored mass and radius values\n",
        "  vel_bh[i] = orb_vel # Ensures that the velocity indices have the same formatting, links names\n",
        "\n",
        "  print(i, \"The orbital velocity at\", rad, \"Kpc\", orb_vel.to(u.km/u.s)) # Displays result"
      ],
      "metadata": {
        "colab": {
          "base_uri": "https://localhost:8080/"
        },
        "id": "TP400-Js-9J0",
        "outputId": "5c125b2a-2805-4c4a-a026-2156b0304ea3"
      },
      "execution_count": 36,
      "outputs": [
        {
          "output_type": "stream",
          "name": "stdout",
          "text": [
            "0 The orbital velocity at 5680.0 pc Kpc 1.5080627911962298e-06 km / s\n",
            "1 The orbital velocity at 6810.0 pc Kpc 1.3772730090241908e-06 km / s\n",
            "2 The orbital velocity at 7950.0 pc Kpc 1.2747059945073634e-06 km / s\n",
            "3 The orbital velocity at 9080.0 pc Kpc 1.1927534137615838e-06 km / s\n",
            "4 The orbital velocity at 10220.0 pc Kpc 1.1242635863659443e-06 km / s\n",
            "5 The orbital velocity at 11350.0 pc Kpc 1.0668310854263338e-06 km / s\n",
            "6 The orbital velocity at 12490.0 pc Kpc 1.0169799090324708e-06 km / s\n",
            "7 The orbital velocity at 13620.0 pc Kpc 9.738790842262063e-07 km / s\n",
            "8 The orbital velocity at 14760.0 pc Kpc 9.355142641370876e-07 km / s\n",
            "9 The orbital velocity at 15890.0 pc Kpc 9.016368309247075e-07 km / s\n",
            "10 The orbital velocity at 17030.0 pc Kpc 8.70936052309981e-07 km / s\n",
            "11 The orbital velocity at 18160.0 pc Kpc 8.434040271542199e-07 km / s\n",
            "12 The orbital velocity at 19300.0 pc Kpc 8.181160973531268e-07 km / s\n",
            "13 The orbital velocity at 20430.0 pc Kpc 7.951689425077225e-07 km / s\n",
            "14 The orbital velocity at 21450.0 pc Kpc 7.760325615823148e-07 km / s\n",
            "15 The orbital velocity at 22470.0 pc Kpc 7.582144488601334e-07 km / s\n",
            "16 The orbital velocity at 23500.0 pc Kpc 7.414120860307327e-07 km / s\n",
            "17 The orbital velocity at 24520.0 pc Kpc 7.258274012663998e-07 km / s\n",
            "18 The orbital velocity at 25540.0 pc Kpc 7.111859136073243e-07 km / s\n",
            "19 The orbital velocity at 26560.0 pc Kpc 6.973961686666149e-07 km / s\n",
            "20 The orbital velocity at 27580.0 pc Kpc 6.84378663882826e-07 km / s\n",
            "21 The orbital velocity at 28600.0 pc Kpc 6.720639124941965e-07 km / s\n",
            "22 The orbital velocity at 29620.0 pc Kpc 6.603908775127342e-07 km / s\n",
            "23 The orbital velocity at 30650.0 pc Kpc 6.491997636654748e-07 km / s\n",
            "24 The orbital velocity at 31670.0 pc Kpc 6.386597707988423e-07 km / s\n",
            "25 The orbital velocity at 32689.999999999996 pc Kpc 6.286170152130051e-07 km / s\n",
            "26 The orbital velocity at 33710.0 pc Kpc 6.190335912461795e-07 km / s\n",
            "27 The orbital velocity at 34730.0 pc Kpc 6.098755191733068e-07 km / s\n"
          ]
        }
      ]
    },
    {
      "cell_type": "code",
      "source": [
        "dis = table[\"col2\"]\n",
        "vel = table [\"col3\"]\n",
        "plt.plot(dis, vel, color = \"blue\", label = \"Data\" ) # This changes the color of the actual galactic orbital velocity graph to blue and names it Data\n",
        "plt.plot(dis, vel_bh.value, color = \"red\", label = \"Black Hole\" ) # This changes the color of the black hole orbital velocity graph to red and labels it black hole\n",
        "plt.plot(distance, velocity) # This plots an x-y line graph of distance and velocity\n",
        "plt.xlabel(\"Distance (Kpc)\") # This writes and displays an x-axis label\n",
        "plt.ylabel(\"Velocity (Km/s)\") # This writes and displays a y-axis label\n",
        "plt.ylim(0,300) # This changes the graph scaling\n",
        "plt.legend # This displays the legend\n",
        "\n"
      ],
      "metadata": {
        "colab": {
          "base_uri": "https://localhost:8080/",
          "height": 472
        },
        "id": "3d5gj7JKC94U",
        "outputId": "c7a61136-d0b4-46d6-a582-23a675142caf"
      },
      "execution_count": 38,
      "outputs": [
        {
          "output_type": "execute_result",
          "data": {
            "text/plain": [
              "<function matplotlib.pyplot.legend(*args, **kwargs)>"
            ]
          },
          "metadata": {},
          "execution_count": 38
        },
        {
          "output_type": "display_data",
          "data": {
            "text/plain": [
              "<Figure size 640x480 with 1 Axes>"
            ],
            "image/png": "[encoded data removed]"
          },
          "metadata": {}
        }
      ]
    }
  ]
}