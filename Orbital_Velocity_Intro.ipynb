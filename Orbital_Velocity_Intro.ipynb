{
  "nbformat": 4,
  "nbformat_minor": 0,
  "metadata": {
    "colab": {
      "provenance": [],
      "authorship_tag": "ABX9TyO7S4j0CH9y9P7kycqkCjY2",
      "include_colab_link": true
    },
    "kernelspec": {
      "name": "python3",
      "display_name": "Python 3"
    },
    "language_info": {
      "name": "python"
    }
  },
  "cells": [
    {
      "cell_type": "markdown",
      "metadata": {
        "id": "view-in-github",
        "colab_type": "text"
      },
      "source": [
        "<a href=\"https://colab.research.google.com/github/AHappyCPU/Astro1221/blob/main/Orbital_Velocity_Intro.ipynb\" target=\"_parent\"><img src=\"https://colab.research.google.com/assets/colab-badge.svg\" alt=\"Open In Colab\"/></a>"
      ]
    },
    {
      "cell_type": "code",
      "execution_count": null,
      "metadata": {
        "id": "7QzXareKXYkt"
      },
      "outputs": [],
      "source": [
        "import numpy as np"
      ]
    },
    {
      "cell_type": "code",
      "source": [
        "import astropy.units as u\n",
        "import astropy.constants as ac"
      ],
      "metadata": {
        "id": "I-g3B9cqXeFj"
      },
      "execution_count": null,
      "outputs": []
    },
    {
      "cell_type": "code",
      "source": [
        "ac.G.si"
      ],
      "metadata": {
        "colab": {
          "base_uri": "https://localhost:8080/",
          "height": 42
        },
        "id": "xXBAkgxAXlth",
        "outputId": "860f2557-bcd2-4244-bc2b-6e7f35fb37d8"
      },
      "execution_count": null,
      "outputs": [
        {
          "output_type": "execute_result",
          "data": {
            "text/plain": [
              "<<class 'astropy.constants.codata2018.CODATA2018'> name='Gravitational constant' value=6.6743e-11 uncertainty=1.5e-15 unit='m3 / (kg s2)' reference='CODATA 2018'>"
            ],
            "text/latex": "$6.6743 \\times 10^{-11} \\; \\mathrm{\\frac{m^{3}}{kg\\,s^{2}}}$"
          },
          "metadata": {},
          "execution_count": 13
        }
      ]
    },
    {
      "cell_type": "code",
      "source": [
        "ac.M_earth.si"
      ],
      "metadata": {
        "colab": {
          "base_uri": "https://localhost:8080/",
          "height": 37
        },
        "id": "t-O_34HqX9ES",
        "outputId": "7032025f-3ea6-4311-cec3-266e49d7a42e"
      },
      "execution_count": null,
      "outputs": [
        {
          "output_type": "execute_result",
          "data": {
            "text/plain": [
              "<<class 'astropy.constants.iau2015.IAU2015'> name='Earth mass' value=5.972167867791379e+24 uncertainty=1.3422009501651213e+20 unit='kg' reference='IAU 2015 Resolution B 3 + CODATA 2018'>"
            ],
            "text/latex": "$5.9721679 \\times 10^{24} \\; \\mathrm{kg}$"
          },
          "metadata": {},
          "execution_count": 14
        }
      ]
    },
    {
      "cell_type": "code",
      "source": [
        "ac.M_sun.si"
      ],
      "metadata": {
        "colab": {
          "base_uri": "https://localhost:8080/",
          "height": 37
        },
        "id": "OoJRftj2YJi7",
        "outputId": "bc4237c5-7116-4b68-8d59-4391961c0599"
      },
      "execution_count": null,
      "outputs": [
        {
          "output_type": "execute_result",
          "data": {
            "text/plain": [
              "<<class 'astropy.constants.iau2015.IAU2015'> name='Solar mass' value=1.988409870698051e+30 uncertainty=4.468805426856864e+25 unit='kg' reference='IAU 2015 Resolution B 3 + CODATA 2018'>"
            ],
            "text/latex": "$1.9884099 \\times 10^{30} \\; \\mathrm{kg}$"
          },
          "metadata": {},
          "execution_count": 15
        }
      ]
    },
    {
      "cell_type": "markdown",
      "source": [
        "$v_{orbital} = \\frac{GM_⊙}{r}$"
      ],
      "metadata": {
        "id": "y6egcF3JaWWM"
      }
    },
    {
      "cell_type": "code",
      "source": [
        "v_orbital = np.sqrt((ac.G *u.Msun) / u.au)"
      ],
      "metadata": {
        "id": "HgqyZSMFYyU2"
      },
      "execution_count": null,
      "outputs": []
    },
    {
      "cell_type": "code",
      "source": [
        "print(v_orbital.si)"
      ],
      "metadata": {
        "colab": {
          "base_uri": "https://localhost:8080/"
        },
        "id": "1R7VSU0LZGp5",
        "outputId": "03959913-821e-49af-bca5-c7984be5da4a"
      },
      "execution_count": null,
      "outputs": [
        {
          "output_type": "stream",
          "name": "stdout",
          "text": [
            "29784.691829676933 m / s\n"
          ]
        }
      ]
    },
    {
      "cell_type": "code",
      "source": [
        "# This orbital velocity is how fast the Earth is going around the Sun."
      ],
      "metadata": {
        "id": "Vsmzrl2cZtiL"
      },
      "execution_count": null,
      "outputs": []
    },
    {
      "cell_type": "code",
      "source": [
        "print(v_orbital.si, v_orbital.to (u.km/ u.s))"
      ],
      "metadata": {
        "colab": {
          "base_uri": "https://localhost:8080/"
        },
        "id": "mLwnGV6WZ0F4",
        "outputId": "e5074493-f3d7-465e-8dd4-f727af4738be"
      },
      "execution_count": null,
      "outputs": [
        {
          "output_type": "stream",
          "name": "stdout",
          "text": [
            "29784.691829676933 m / s 29.784691829676934 km / s\n"
          ]
        }
      ]
    },
    {
      "cell_type": "code",
      "source": [
        "print(v_orbital.si, v_orbital.to (u.km/ u.s), v_orbital.to(ac.c))"
      ],
      "metadata": {
        "colab": {
          "base_uri": "https://localhost:8080/"
        },
        "id": "9RMUdPjaaE3n",
        "outputId": "2c9e3e14-0f66-477b-c1d6-d99ccd9dddc1"
      },
      "execution_count": null,
      "outputs": [
        {
          "output_type": "stream",
          "name": "stdout",
          "text": [
            "29784.691829676933 m / s 29.784691829676934 km / s 9.935103780921979e-05 2.99792e+08 m / s\n"
          ]
        }
      ]
    },
    {
      "cell_type": "markdown",
      "source": [
        "$v_{orbital} = \\sqrt\\frac{GM_⊙}{r}$"
      ],
      "metadata": {
        "id": "cgr-9r1xajJD"
      }
    },
    {
      "cell_type": "code",
      "source": [
        "v_sattelite = np.sqrt((ac.G *u.Mearth) / u.earthRad)"
      ],
      "metadata": {
        "id": "wrV73KXUagX8"
      },
      "execution_count": null,
      "outputs": []
    },
    {
      "cell_type": "code",
      "source": [
        "print(v_sattelite.si)\n"
      ],
      "metadata": {
        "colab": {
          "base_uri": "https://localhost:8080/"
        },
        "id": "SagM-gRWa-5d",
        "outputId": "a17c5fcf-1bf9-4d6f-ff1c-90f59aaa1748"
      },
      "execution_count": null,
      "outputs": [
        {
          "output_type": "stream",
          "name": "stdout",
          "text": [
            "7905.388234385281 m / s\n"
          ]
        }
      ]
    },
    {
      "cell_type": "markdown",
      "source": [
        "$v_{black hole} = \\sqrt\\frac{GM_⊙}{r}$,\n",
        "$c=\\sqrt\\frac{GM_⊙}{r}$, r=$\\frac {GM}{c^2}$"
      ],
      "metadata": {
        "id": "BbfG3oJobihK"
      }
    },
    {
      "cell_type": "code",
      "source": [
        "radius = ((ac.G *u.Msun) / (ac.c)**2 )"
      ],
      "metadata": {
        "id": "T58LmVYAbiLf"
      },
      "execution_count": null,
      "outputs": []
    },
    {
      "cell_type": "code",
      "source": [
        "print(radius.si)"
      ],
      "metadata": {
        "colab": {
          "base_uri": "https://localhost:8080/"
        },
        "id": "CVfkLqRyc1iO",
        "outputId": "cfec9f1b-b79e-46ec-9e2c-07122611cba2"
      },
      "execution_count": null,
      "outputs": [
        {
          "output_type": "stream",
          "name": "stdout",
          "text": [
            "1476.6250380501249 m\n"
          ]
        }
      ]
    },
    {
      "cell_type": "markdown",
      "source": [
        "We note that this result is incorrect. This is because we have calculated an orbital velocity. For light to excape the black hole, we should have calculated escape velocity. Instead of calculating a balanced equation of velocity and gravity, we needed to consider a balanced equation of gravitic energy and kinetic energy.\n"
      ],
      "metadata": {
        "id": "LELGyjVUdXmp"
      }
    },
    {
      "cell_type": "markdown",
      "source": [
        "$\\frac{GMm}{\\gamma} = \\frac{mv^2}{2}$"
      ],
      "metadata": {
        "id": "TuoxuEl_dvhe"
      }
    },
    {
      "cell_type": "code",
      "source": [],
      "metadata": {
        "id": "PTaVehcdc3yI"
      },
      "execution_count": null,
      "outputs": []
    }
  ]
}